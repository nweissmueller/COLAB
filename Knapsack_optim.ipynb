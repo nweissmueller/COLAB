{
  "nbformat": 4,
  "nbformat_minor": 0,
  "metadata": {
    "colab": {
      "provenance": [],
      "authorship_tag": "ABX9TyNJxiqsHSAjkNdh3Cw4b2fF",
      "include_colab_link": true
    },
    "kernelspec": {
      "name": "python3",
      "display_name": "Python 3"
    },
    "language_info": {
      "name": "python"
    }
  },
  "cells": [
    {
      "cell_type": "markdown",
      "metadata": {
        "id": "view-in-github",
        "colab_type": "text"
      },
      "source": [
        "<a href=\"https://colab.research.google.com/github/nweissmueller/COLAB/blob/main/Knapsack_optim.ipynb\" target=\"_parent\"><img src=\"https://colab.research.google.com/assets/colab-badge.svg\" alt=\"Open In Colab\"/></a>"
      ]
    },
    {
      "cell_type": "markdown",
      "source": [
        "## The Knapsack Problem\n",
        "\n",
        "The knapsack problem is the following problem in combinatorial optimization:\n",
        "\n",
        "Given a set of items, each with a weight and a value, determine which items to include in the collection so that the total weight is less than or equal to a given limit and the total value is as large as possible.\n",
        "\n",
        "Knapsack problems appear in real-world decision-making processes in a wide variety of fields, such as finding the least wasteful way to cut raw materials, selection of investments and portfolios."
      ],
      "metadata": {
        "id": "e2GNOqd30ANA"
      }
    },
    {
      "cell_type": "code",
      "execution_count": null,
      "metadata": {
        "id": "-112NiY1z0K3"
      },
      "outputs": [],
      "source": [
        "# Python code to implement the above approach\n",
        "# Time Complexity: O(N * W). As redundant calculations of states are avoided.\n",
        "# Auxiliary Space: O(W) As we are using a 1-D array.\n",
        "\n",
        "def knapsack(W, wt, val, n):\n",
        "\n",
        "    # Making the dp array\n",
        "    dp = [0 for i in range(W+1)]\n",
        "\n",
        "    # Array to store the chosen items\n",
        "    items = [[] for _ in range(W+1)]\n",
        "\n",
        "    # Taking first i elements\n",
        "    for i in range(1, n+1):\n",
        "\n",
        "        # Starting from back,\n",
        "        # so that we also have data of\n",
        "        # previous computation when taking i-1 items\n",
        "        for w in range(W, 0, -1):\n",
        "            if wt[i-1] <= w:\n",
        "                # Finding the maximum value\n",
        "                if dp[w-wt[i-1]] + val[i-1] > dp[w]:\n",
        "                    dp[w] = dp[w-wt[i-1]] + val[i-1]\n",
        "                    items[w] = items[w-wt[i-1]] + [i-1]\n",
        "                else:\n",
        "                    dp[w] = dp[w]\n",
        "                    items[w] = items[w]\n",
        "\n",
        "    # Returning the maximum value of knapsack and the items used\n",
        "    return dp[W], items[W]"
      ]
    },
    {
      "cell_type": "code",
      "source": [
        "## example\n",
        "eNPV = [60, 100, 120]\n",
        "eDC = [10, 20, 30]\n",
        "budget = 50\n",
        "n = len(eNPV)\n",
        "print(knapsack(budget, eDC, eNPV, n))"
      ],
      "metadata": {
        "colab": {
          "base_uri": "https://localhost:8080/"
        },
        "id": "qBmCGbr61fk4",
        "outputId": "d4e74e8f-bead-4aea-c97e-d9f2d0766355"
      },
      "execution_count": null,
      "outputs": [
        {
          "output_type": "stream",
          "name": "stdout",
          "text": [
            "(220, [1, 2])\n"
          ]
        }
      ]
    },
    {
      "cell_type": "code",
      "source": [
        "## example\n",
        "assets = [\"a\", \"b\" ,\"c\", \"d\", \"e\"]\n",
        "eNPV = [70, 100, 200, 180]\n",
        "PI = [7, 5, 10, 6]\n",
        "eDC = [10, 20, 20, 30]\n",
        "budget = 50\n",
        "n = len(eNPV)\n",
        "print(knapsack(budget, eDC, eNPV, n))\n",
        "print(knapsack(budget, eDC, PI, n))"
      ],
      "metadata": {
        "colab": {
          "base_uri": "https://localhost:8080/"
        },
        "id": "8k9zl9ag51Pj",
        "outputId": "69b4b8d5-96ce-45ea-8ce7-744d83fdad0b"
      },
      "execution_count": null,
      "outputs": [
        {
          "output_type": "stream",
          "name": "stdout",
          "text": [
            "(380, [2, 3])\n",
            "(22, [0, 1, 2])\n"
          ]
        }
      ]
    },
    {
      "cell_type": "markdown",
      "source": [
        "Note: An alternative to the knapsack problem is the efficient frontier where the slope is the incremental PI.\n",
        "y: cumulative eNPV\n",
        "x: cumulative eDC\n",
        "\n",
        "\n",
        "Resources:\n",
        "https://ppmexecution.com/tag/efficient-frontier/\n"
      ],
      "metadata": {
        "id": "Vh4kqUG68sQm"
      }
    }
  ]
}