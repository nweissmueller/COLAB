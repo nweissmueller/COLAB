{
  "nbformat": 4,
  "nbformat_minor": 0,
  "metadata": {
    "colab": {
      "provenance": [],
      "authorship_tag": "ABX9TyOy/WFKAm9CCK5tMK/EM5tk",
      "include_colab_link": true
    },
    "kernelspec": {
      "name": "python3",
      "display_name": "Python 3"
    },
    "language_info": {
      "name": "python"
    }
  },
  "cells": [
    {
      "cell_type": "markdown",
      "metadata": {
        "id": "view-in-github",
        "colab_type": "text"
      },
      "source": [
        "<a href=\"https://colab.research.google.com/github/nweissmueller/COLAB/blob/main/Linear_Programming_Portfolio.ipynb\" target=\"_parent\"><img src=\"https://colab.research.google.com/assets/colab-badge.svg\" alt=\"Open In Colab\"/></a>"
      ]
    },
    {
      "cell_type": "markdown",
      "source": [
        "https://thegeeksdiary.com/2023/03/22/linear-programming-in-python-using-pulp-part-3-optimizing-investment-portfolios-with-multi-objective-optimization/"
      ],
      "metadata": {
        "id": "iupiPympf6iD"
      }
    },
    {
      "cell_type": "markdown",
      "source": [
        "**Problem Summary**\n",
        "\n",
        "Section\tDescription\n",
        "Problem\tFinding the optimal investment portfolio that balances multiple objectives, such as maximizing returns and minimizing risk\n",
        "\n",
        "**Objectives**\n",
        "\n",
        "1. Maximize the expected return on investment,\n",
        "2. Minimize the risk of the portfolio\n",
        "\n",
        "**Constraints**\n",
        "1. The portfolio must be fully invested,\n",
        "2. The investment in each asset must be non-negative\n",
        "\n",
        "**Approach**\n",
        "\n",
        "Use linear programming and the Pulp library in Python to find the optimal investment portfolio."
      ],
      "metadata": {
        "id": "Wnw52XtMgB5_"
      }
    },
    {
      "cell_type": "markdown",
      "source": [
        "The problem can be formulated as the following linear programming problem:"
      ],
      "metadata": {
        "id": "T_kRJZmpgiVq"
      }
    },
    {
      "cell_type": "markdown",
      "source": [
        "![image.png](data:image/png;base64,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)"
      ],
      "metadata": {
        "id": "Whz9P3oMgfBC"
      }
    },
    {
      "cell_type": "markdown",
      "source": [
        "Tabular Summary of the Problem\n",
        "\n",
        "Symbol\t  Description\n",
        "\n",
        "* x_i\t      Fraction of the investment portfolio invested in asset i\n",
        "\n",
        "* r_i\tExpected return on investment for asset i\n",
        "\n",
        "* s\tStandard deviation of the portfolio\n",
        "\n",
        "* σ_i\tStandard deviation of asset i\n",
        "\n",
        "* n\tNumber of assets in the portfolio"
      ],
      "metadata": {
        "id": "tC3azJGHgvgr"
      }
    },
    {
      "cell_type": "markdown",
      "source": [
        "**Steps to solve the LP problem**\n",
        "\n",
        "1.   Import the Pulp library\n",
        "2.   Create two new LpProblem objects, one for maximizing the return and one for minimizing the risk\n",
        "3. Define variables using the LpVariable class, one for each asset in the portfolio\n",
        "4. Define the expected return and standard deviation for each asset\n",
        "5. Add constraints to both problems, ensuring that the portfolio is fully invested and the investment in each asset is non-negative\n",
        "6. Define the objectives for both problems, maximizing the expected return and minimizing the risk\n",
        "7. Solve both problems using the solve method of the LpProblem class\n",
        "8. Print the results, including the fraction of the portfolio invested in each asset and the expected return and standard deviation of the portfolio"
      ],
      "metadata": {
        "id": "JheF8UEXhJ1j"
      }
    },
    {
      "cell_type": "code",
      "source": [
        "!pip install pulp\n",
        "\n",
        "from pulp import *"
      ],
      "metadata": {
        "colab": {
          "base_uri": "https://localhost:8080/"
        },
        "id": "kDsvnY2mgA87",
        "outputId": "f7f03408-5576-4e92-d602-fe9d7377af74"
      },
      "execution_count": 2,
      "outputs": [
        {
          "output_type": "stream",
          "name": "stdout",
          "text": [
            "Collecting pulp\n",
            "  Downloading PuLP-2.7.0-py3-none-any.whl (14.3 MB)\n",
            "\u001b[2K     \u001b[90m━━━━━━━━━━━━━━━━━━━━━━━━━━━━━━━━━━━━━━━━\u001b[0m \u001b[32m14.3/14.3 MB\u001b[0m \u001b[31m76.3 MB/s\u001b[0m eta \u001b[36m0:00:00\u001b[0m\n",
            "\u001b[?25hInstalling collected packages: pulp\n",
            "Successfully installed pulp-2.7.0\n"
          ]
        }
      ]
    },
    {
      "cell_type": "code",
      "source": [
        "# Define the number of assets in the portfolio\n",
        "n = 4\n",
        "\n",
        "# Define the expected return and standard deviation for each asset\n",
        "returns = [0.1, 0.2, 0.15, 0.3]\n",
        "deviations = [0.15, 0.2, 0.1, 0.3]\n",
        "\n",
        "# Create two new LpProblem objects, one for maximizing the return and one for minimizing the risk\n",
        "return_problem = LpProblem(\"Maximize Return\", LpMaximize)\n",
        "risk_problem = LpProblem(\"Minimize Risk\", LpMinimize)\n",
        "\n",
        "# Define variables using the LpVariable class, one for each asset in the portfolio\n",
        "x = [LpVariable(f\"x{i}\", 0, 1) for i in range(n)]\n",
        "\n",
        "# Add constraints to both problems, ensuring that the portfolio is fully invested and the investment in each asset is non-negative\n",
        "return_problem += sum(x) == 1\n",
        "risk_problem += sum(x) == 1\n",
        "\n",
        "for i in range(n):\n",
        "    return_problem += x[i] >= 0\n",
        "    risk_problem += x[i] >= 0\n",
        "\n",
        "# Define the objectives for both problems, maximizing the expected return and minimizing the risk\n",
        "return_problem += sum([x[i] * returns[i] for i in range(n)])\n",
        "risk_problem += sum([x[i] * deviations[i] for i in range(n)])\n",
        "\n",
        "# Solve both problems using the solve method of the LpProblem class\n",
        "return_problem.solve()\n",
        "risk_problem.solve()\n",
        "\n",
        "# Print the results, including the fraction of the portfolio invested in each asset and the expected return and standard deviation of the portfolio\n",
        "print(\"--- Results ---\")\n",
        "print(\"Maximize Return:\")\n",
        "for i in range(n):\n",
        "    print(f\"Asset {i}: {x[i].value()}\")\n",
        "print(f\"Expected Return: {value(return_problem.objective)}\")\n",
        "\n",
        "print(\"Minimize Risk:\")\n",
        "for i in range(n):\n",
        "    print(f\"Asset {i}: {x[i].value()}\")\n",
        "print(f\"Standard Deviation: {value(risk_problem.objective)}\")"
      ],
      "metadata": {
        "colab": {
          "base_uri": "https://localhost:8080/"
        },
        "id": "CWaTiA8Uhrn2",
        "outputId": "b25ed88b-f489-4190-f82e-13d554f39796"
      },
      "execution_count": 5,
      "outputs": [
        {
          "output_type": "stream",
          "name": "stdout",
          "text": [
            "--- Results ---\n",
            "Maximize Return:\n",
            "Asset 0: 0.0\n",
            "Asset 1: 0.0\n",
            "Asset 2: 1.0\n",
            "Asset 3: 0.0\n",
            "Expected Return: 0.15\n",
            "Minimize Risk:\n",
            "Asset 0: 0.0\n",
            "Asset 1: 0.0\n",
            "Asset 2: 1.0\n",
            "Asset 3: 0.0\n",
            "Standard Deviation: 0.1\n"
          ]
        }
      ]
    }
  ]
}